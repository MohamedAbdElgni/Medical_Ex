{
 "cells": [
  {
   "cell_type": "code",
   "execution_count": 160,
   "metadata": {},
   "outputs": [
    {
     "data": {
      "text/plain": [
       "<AxesSubplot:xlabel='index'>"
      ]
     },
     "execution_count": 160,
     "metadata": {},
     "output_type": "execute_result"
    },
    {
     "data": {
      "image/png": "[encoded data removed]",
      "text/plain": [
       "<Figure size 576x396 with 1 Axes>"
      ]
     },
     "metadata": {},
     "output_type": "display_data"
    }
   ],
   "source": [
    "import pandas as pd\n",
    "import numpy as np\n",
    "import seaborn as sns\n",
    "import matplotlib.pyplot as plt\n",
    "plt.style.use('seaborn')\n",
    "df=pd.read_csv(\"medical_examination.csv\")\n",
    "df.isnull().sum(axis=0)\n",
    "#just checking that thea data is cleaned\n",
    "#...... its so clean\n",
    "#making age in years instade of Days\n",
    "df['age']=(df['age']/365).astype(int)\n",
    "\n",
    "#df['sex'].value_counts()\n",
    "#with sex Col i suppose that 1=Male , 2=Female\n",
    "df['sex'].replace({1:'Male',2:'Female',3:'Unknown'},inplace=True)\n",
    "age_chart=df['age'].value_counts().reset_index(name='Total')\n",
    "age_chart.plot(kind='bar',x='index',y='Total',grid='seaborn')\n"
   ]
  },
  {
   "cell_type": "code",
   "execution_count": 161,
   "metadata": {},
   "outputs": [],
   "source": [
    "# Add 'overweight' column\n",
    "df['overweight'] = np.where((df[\"weight\"]/((df[\"height\"]/100)**2))  >25,1,0,)\n"
   ]
  },
  {
   "cell_type": "code",
   "execution_count": 162,
   "metadata": {},
   "outputs": [],
   "source": [
    "# Normalize data by making 0 always good and 1 always bad. If the value of 'cholesterol' or 'gluc' is 1, make the value 0. If the value is more than 1, make the value 1.\n",
    "df[\"cholesterol\"] = np.where(df[\"cholesterol\"] == 1, 0, 1)\n",
    "df[\"gluc\"] = np.where(df[\"gluc\"] == 1, 0, 1)\n"
   ]
  },
  {
   "cell_type": "code",
   "execution_count": 163,
   "metadata": {},
   "outputs": [],
   "source": [
    "def draw_cat_plot():\n",
    "    # Create DataFrame for cat plot using `pd.melt` using just the values from\n",
    "    # 'cholesterol', 'gluc', 'smoke', 'alco', 'active', and 'overweight'.\n",
    "    vars = sorted([\"cholesterol\", \"gluc\", \"smoke\", \"alco\", \"active\", \"overweight\"])\n",
    "\n",
    "    df_cat = pd.melt(df,id_vars=[\"cardio\"],value_vars=vars,)\n",
    "\n",
    "    # Group and reformat the data to split it by 'cardio'. Show the counts of\n",
    "    # each feature. You will have to rename one of the columns for the catplot\n",
    "    # to work correctly.\n",
    "    df_cat = df_cat.value_counts().reset_index(name=\"total\")\n",
    "\n",
    "    # Draw the catplot with 'sns.catplot()'\n",
    "    fig = sns.catplot(\n",
    "        data=df_cat,\n",
    "        x=\"variable\",\n",
    "        y=\"total\",\n",
    "        hue=\"value\",\n",
    "        col=\"cardio\",\n",
    "        kind=\"bar\",\n",
    "        order=vars,\n",
    "    )\n",
    "    fig.set_ylabels(\"total\")\n",
    "    fig.set_xlabels(\"variable\")\n",
    "    \n",
    "\n",
    "    #Do not modify the next two lines\n",
    "    fig.savefig(\"catplot.png\") # Don't save to file\n",
    "    return "
   ]
  },
  {
   "cell_type": "code",
   "execution_count": 164,
   "metadata": {},
   "outputs": [
    {
     "data": {
      "image/png": "[encoded data removed]",
      "text/plain": [
       "<Figure size 761.625x360 with 2 Axes>"
      ]
     },
     "metadata": {},
     "output_type": "display_data"
    }
   ],
   "source": [
    "draw_cat_plot()"
   ]
  },
  {
   "cell_type": "code",
   "execution_count": 165,
   "metadata": {},
   "outputs": [],
   "source": [
    "df_heat = df.loc[(df[\"ap_lo\"] <= df[\"ap_hi\"])& (df[\"height\"] >= df[\"height\"].quantile(0.025))\n",
    "        & (df[\"height\"] <= df[\"height\"].quantile(0.975))\n",
    "        & (df[\"weight\"] >= df[\"weight\"].quantile(0.025))\n",
    "        & (df[\"weight\"] <= df[\"weight\"].quantile(0.975))]"
   ]
  },
  {
   "cell_type": "code",
   "execution_count": 166,
   "metadata": {},
   "outputs": [
    {
     "data": {
      "text/html": [
       "<div>\n",
       "<style scoped>\n",
       "    .dataframe tbody tr th:only-of-type {\n",
       "        vertical-align: middle;\n",
       "    }\n",
       "\n",
       "    .dataframe tbody tr th {\n",
       "        vertical-align: top;\n",
       "    }\n",
       "\n",
       "    .dataframe thead th {\n",
       "        text-align: right;\n",
       "    }\n",
       "</style>\n",
       "<table border=\"1\" class=\"dataframe\">\n",
       "  <thead>\n",
       "    <tr style=\"text-align: right;\">\n",
       "      <th></th>\n",
       "      <th>id</th>\n",
       "      <th>age</th>\n",
       "      <th>sex</th>\n",
       "      <th>height</th>\n",
       "      <th>weight</th>\n",
       "      <th>ap_hi</th>\n",
       "      <th>ap_lo</th>\n",
       "      <th>cholesterol</th>\n",
       "      <th>gluc</th>\n",
       "      <th>smoke</th>\n",
       "      <th>alco</th>\n",
       "      <th>active</th>\n",
       "      <th>cardio</th>\n",
       "      <th>overweight</th>\n",
       "    </tr>\n",
       "  </thead>\n",
       "  <tbody>\n",
       "    <tr>\n",
       "      <th>0</th>\n",
       "      <td>0</td>\n",
       "      <td>50</td>\n",
       "      <td>Female</td>\n",
       "      <td>168</td>\n",
       "      <td>62.0</td>\n",
       "      <td>110</td>\n",
       "      <td>80</td>\n",
       "      <td>0</td>\n",
       "      <td>0</td>\n",
       "      <td>0</td>\n",
       "      <td>0</td>\n",
       "      <td>1</td>\n",
       "      <td>0</td>\n",
       "      <td>0</td>\n",
       "    </tr>\n",
       "    <tr>\n",
       "      <th>1</th>\n",
       "      <td>1</td>\n",
       "      <td>55</td>\n",
       "      <td>Male</td>\n",
       "      <td>156</td>\n",
       "      <td>85.0</td>\n",
       "      <td>140</td>\n",
       "      <td>90</td>\n",
       "      <td>1</td>\n",
       "      <td>0</td>\n",
       "      <td>0</td>\n",
       "      <td>0</td>\n",
       "      <td>1</td>\n",
       "      <td>1</td>\n",
       "      <td>1</td>\n",
       "    </tr>\n",
       "    <tr>\n",
       "      <th>2</th>\n",
       "      <td>2</td>\n",
       "      <td>51</td>\n",
       "      <td>Male</td>\n",
       "      <td>165</td>\n",
       "      <td>64.0</td>\n",
       "      <td>130</td>\n",
       "      <td>70</td>\n",
       "      <td>1</td>\n",
       "      <td>0</td>\n",
       "      <td>0</td>\n",
       "      <td>0</td>\n",
       "      <td>0</td>\n",
       "      <td>1</td>\n",
       "      <td>0</td>\n",
       "    </tr>\n",
       "    <tr>\n",
       "      <th>3</th>\n",
       "      <td>3</td>\n",
       "      <td>48</td>\n",
       "      <td>Female</td>\n",
       "      <td>169</td>\n",
       "      <td>82.0</td>\n",
       "      <td>150</td>\n",
       "      <td>100</td>\n",
       "      <td>0</td>\n",
       "      <td>0</td>\n",
       "      <td>0</td>\n",
       "      <td>0</td>\n",
       "      <td>1</td>\n",
       "      <td>1</td>\n",
       "      <td>1</td>\n",
       "    </tr>\n",
       "    <tr>\n",
       "      <th>4</th>\n",
       "      <td>4</td>\n",
       "      <td>47</td>\n",
       "      <td>Male</td>\n",
       "      <td>156</td>\n",
       "      <td>56.0</td>\n",
       "      <td>100</td>\n",
       "      <td>60</td>\n",
       "      <td>0</td>\n",
       "      <td>0</td>\n",
       "      <td>0</td>\n",
       "      <td>0</td>\n",
       "      <td>0</td>\n",
       "      <td>0</td>\n",
       "      <td>0</td>\n",
       "    </tr>\n",
       "    <tr>\n",
       "      <th>...</th>\n",
       "      <td>...</td>\n",
       "      <td>...</td>\n",
       "      <td>...</td>\n",
       "      <td>...</td>\n",
       "      <td>...</td>\n",
       "      <td>...</td>\n",
       "      <td>...</td>\n",
       "      <td>...</td>\n",
       "      <td>...</td>\n",
       "      <td>...</td>\n",
       "      <td>...</td>\n",
       "      <td>...</td>\n",
       "      <td>...</td>\n",
       "      <td>...</td>\n",
       "    </tr>\n",
       "    <tr>\n",
       "      <th>69993</th>\n",
       "      <td>99991</td>\n",
       "      <td>53</td>\n",
       "      <td>Male</td>\n",
       "      <td>172</td>\n",
       "      <td>70.0</td>\n",
       "      <td>130</td>\n",
       "      <td>90</td>\n",
       "      <td>0</td>\n",
       "      <td>0</td>\n",
       "      <td>0</td>\n",
       "      <td>0</td>\n",
       "      <td>1</td>\n",
       "      <td>1</td>\n",
       "      <td>0</td>\n",
       "    </tr>\n",
       "    <tr>\n",
       "      <th>69994</th>\n",
       "      <td>99992</td>\n",
       "      <td>57</td>\n",
       "      <td>Male</td>\n",
       "      <td>165</td>\n",
       "      <td>80.0</td>\n",
       "      <td>150</td>\n",
       "      <td>80</td>\n",
       "      <td>0</td>\n",
       "      <td>0</td>\n",
       "      <td>0</td>\n",
       "      <td>0</td>\n",
       "      <td>1</td>\n",
       "      <td>1</td>\n",
       "      <td>1</td>\n",
       "    </tr>\n",
       "    <tr>\n",
       "      <th>69995</th>\n",
       "      <td>99993</td>\n",
       "      <td>52</td>\n",
       "      <td>Female</td>\n",
       "      <td>168</td>\n",
       "      <td>76.0</td>\n",
       "      <td>120</td>\n",
       "      <td>80</td>\n",
       "      <td>0</td>\n",
       "      <td>0</td>\n",
       "      <td>1</td>\n",
       "      <td>0</td>\n",
       "      <td>1</td>\n",
       "      <td>0</td>\n",
       "      <td>1</td>\n",
       "    </tr>\n",
       "    <tr>\n",
       "      <th>69998</th>\n",
       "      <td>99998</td>\n",
       "      <td>61</td>\n",
       "      <td>Male</td>\n",
       "      <td>163</td>\n",
       "      <td>72.0</td>\n",
       "      <td>135</td>\n",
       "      <td>80</td>\n",
       "      <td>0</td>\n",
       "      <td>1</td>\n",
       "      <td>0</td>\n",
       "      <td>0</td>\n",
       "      <td>0</td>\n",
       "      <td>1</td>\n",
       "      <td>1</td>\n",
       "    </tr>\n",
       "    <tr>\n",
       "      <th>69999</th>\n",
       "      <td>99999</td>\n",
       "      <td>56</td>\n",
       "      <td>Male</td>\n",
       "      <td>170</td>\n",
       "      <td>72.0</td>\n",
       "      <td>120</td>\n",
       "      <td>80</td>\n",
       "      <td>1</td>\n",
       "      <td>0</td>\n",
       "      <td>0</td>\n",
       "      <td>0</td>\n",
       "      <td>1</td>\n",
       "      <td>0</td>\n",
       "      <td>0</td>\n",
       "    </tr>\n",
       "  </tbody>\n",
       "</table>\n",
       "<p>63259 rows × 14 columns</p>\n",
       "</div>"
      ],
      "text/plain": [
       "          id  age     sex  height  weight  ap_hi  ap_lo  cholesterol  gluc  \\\n",
       "0          0   50  Female     168    62.0    110     80            0     0   \n",
       "1          1   55    Male     156    85.0    140     90            1     0   \n",
       "2          2   51    Male     165    64.0    130     70            1     0   \n",
       "3          3   48  Female     169    82.0    150    100            0     0   \n",
       "4          4   47    Male     156    56.0    100     60            0     0   \n",
       "...      ...  ...     ...     ...     ...    ...    ...          ...   ...   \n",
       "69993  99991   53    Male     172    70.0    130     90            0     0   \n",
       "69994  99992   57    Male     165    80.0    150     80            0     0   \n",
       "69995  99993   52  Female     168    76.0    120     80            0     0   \n",
       "69998  99998   61    Male     163    72.0    135     80            0     1   \n",
       "69999  99999   56    Male     170    72.0    120     80            1     0   \n",
       "\n",
       "       smoke  alco  active  cardio  overweight  \n",
       "0          0     0       1       0           0  \n",
       "1          0     0       1       1           1  \n",
       "2          0     0       0       1           0  \n",
       "3          0     0       1       1           1  \n",
       "4          0     0       0       0           0  \n",
       "...      ...   ...     ...     ...         ...  \n",
       "69993      0     0       1       1           0  \n",
       "69994      0     0       1       1           1  \n",
       "69995      1     0       1       0           1  \n",
       "69998      0     0       0       1           1  \n",
       "69999      0     0       1       0           0  \n",
       "\n",
       "[63259 rows x 14 columns]"
      ]
     },
     "execution_count": 166,
     "metadata": {},
     "output_type": "execute_result"
    }
   ],
   "source": [
    "df_heat"
   ]
  },
  {
   "cell_type": "code",
   "execution_count": 167,
   "metadata": {},
   "outputs": [],
   "source": [
    "values = sorted([\"cholesterol\", \"gluc\", \"smoke\", \"alco\", \"active\", \"overweight\"])\n",
    "df_cat=pd.melt(df,id_vars=['cardio'],value_vars=values)\n",
    "df_cat=df_cat.value_counts().reset_index(name='Values_Count')\n"
   ]
  },
  {
   "cell_type": "code",
   "execution_count": 170,
   "metadata": {},
   "outputs": [
    {
     "data": {
      "image/png": "[encoded data removed]",
      "text/plain": [
       "<Figure size 761.625x360 with 2 Axes>"
      ]
     },
     "metadata": {},
     "output_type": "display_data"
    }
   ],
   "source": [
    "fig = sns.catplot(data=df_cat,x=\"variable\",y=\"Values_Count\",hue=\"value\",col=\"cardio\",kind=\"bar\",order=values,)\n",
    "fig.set_ylabels(\"Total\")\n",
    "fig.set_xlabels(\"variable\")\n",
    "fig.savefig(\"cardio.png\")"
   ]
  },
  {
   "cell_type": "code",
   "execution_count": 173,
   "metadata": {},
   "outputs": [
    {
     "data": {
      "text/plain": [
       "<AxesSubplot:title={'center':'Men and women'}, ylabel='Total'>"
      ]
     },
     "execution_count": 173,
     "metadata": {},
     "output_type": "execute_result"
    },
    {
     "data": {
      "image/png": "[encoded data removed]",
      "text/plain": [
       "<Figure size 576x396 with 1 Axes>"
      ]
     },
     "metadata": {},
     "output_type": "display_data"
    }
   ],
   "source": [
    "#chart for 'sex' Col\n",
    "from matplotlib.pyplot import axes\n",
    "\n",
    "sex_chart=df['sex'].value_counts().reset_index(name='Total')#\n",
    "sex_chart.rename(columns={\"index\":'sex'})\n",
    "sex_chart.plot(kind='pie',x='sex',y=\"Total\",labels=['Male','Female','unknown'],title=\"Men and women\",shadow=True, startangle=90,autopct='%1.1f%%',frame=False)\n",
    "\n"
   ]
  },
  {
   "cell_type": "code",
   "execution_count": null,
   "metadata": {},
   "outputs": [],
   "source": []
  }
 ],
 "metadata": {
  "kernelspec": {
   "display_name": "Python 3.10.2 64-bit",
   "language": "python",
   "name": "python3"
  },
  "language_info": {
   "codemirror_mode": {
    "name": "ipython",
    "version": 3
   },
   "file_extension": ".py",
   "mimetype": "text/x-python",
   "name": "python",
   "nbconvert_exporter": "python",
   "pygments_lexer": "ipython3",
   "version": "3.10.2"
  },
  "orig_nbformat": 4,
  "vscode": {
   "interpreter": {
    "hash": "2606d968353f7d376702d4ff6f3b6c6b7d99413291a74525a0c53b80351bfcb4"
   }
  }
 },
 "nbformat": 4,
 "nbformat_minor": 2
}
